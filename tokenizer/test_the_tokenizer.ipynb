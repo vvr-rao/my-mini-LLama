{
  "nbformat": 4,
  "nbformat_minor": 0,
  "metadata": {
    "colab": {
      "provenance": []
    },
    "kernelspec": {
      "name": "python3",
      "display_name": "Python 3"
    },
    "language_info": {
      "name": "python"
    }
  },
  "cells": [
    {
      "cell_type": "code",
      "execution_count": 1,
      "metadata": {
        "colab": {
          "base_uri": "https://localhost:8080/"
        },
        "id": "u0waNl0u9BlB",
        "outputId": "c0086294-df3a-4e7f-bf7b-bab94b484818"
      },
      "outputs": [
        {
          "output_type": "stream",
          "name": "stdout",
          "text": [
            "--2024-05-25 10:25:01--  https://raw.githubusercontent.com/vvr-rao/my-mini-LLama/main/tokenizer/tiny_shakespere_tokenizer.py\n",
            "Resolving raw.githubusercontent.com (raw.githubusercontent.com)... 185.199.108.133, 185.199.109.133, 185.199.110.133, ...\n",
            "Connecting to raw.githubusercontent.com (raw.githubusercontent.com)|185.199.108.133|:443... connected.\n",
            "HTTP request sent, awaiting response... 200 OK\n",
            "Length: 1497 (1.5K) [text/plain]\n",
            "Saving to: ‘tiny_shakespere_tokenizer.py’\n",
            "\n",
            "\r          tiny_shak   0%[                    ]       0  --.-KB/s               \rtiny_shakespere_tok 100%[===================>]   1.46K  --.-KB/s    in 0s      \n",
            "\n",
            "2024-05-25 10:25:01 (16.3 MB/s) - ‘tiny_shakespere_tokenizer.py’ saved [1497/1497]\n",
            "\n",
            "--2024-05-25 10:25:01--  https://raw.githubusercontent.com/vvr-rao/my-mini-LLama/main/tokenizer/merges.pkl\n",
            "Resolving raw.githubusercontent.com (raw.githubusercontent.com)... 185.199.108.133, 185.199.109.133, 185.199.110.133, ...\n",
            "Connecting to raw.githubusercontent.com (raw.githubusercontent.com)|185.199.108.133|:443... connected.\n",
            "HTTP request sent, awaiting response... 200 OK\n",
            "Length: 386 [application/octet-stream]\n",
            "Saving to: ‘merges.pkl’\n",
            "\n",
            "merges.pkl          100%[===================>]     386  --.-KB/s    in 0s      \n",
            "\n",
            "2024-05-25 10:25:01 (6.09 MB/s) - ‘merges.pkl’ saved [386/386]\n",
            "\n"
          ]
        },
        {
          "output_type": "execute_result",
          "data": {
            "text/plain": [
              "296"
            ]
          },
          "metadata": {},
          "execution_count": 1
        }
      ],
      "source": [
        "!wget https://raw.githubusercontent.com/vvr-rao/my-mini-LLama/main/tokenizer/tiny_shakespere_tokenizer.py\n",
        "\n",
        "!wget https://raw.githubusercontent.com/vvr-rao/my-mini-LLama/main/tokenizer/merges.pkl\n",
        "!mkdir -p vocab\n",
        "!mv merges.pkl vocab/\n",
        "\n",
        "import pickle\n",
        "\n",
        "file_name = './vocab/merges.pkl'\n",
        "with open(file_name, 'rb') as f:\n",
        "    vocab = pickle.load(f)\n",
        "\n",
        "from tiny_shakespere_tokenizer import *\n",
        "\n",
        "tokenizer = get_tokenizer()\n",
        "\n",
        "tokenizer.vocab_len"
      ]
    },
    {
      "cell_type": "code",
      "source": [
        "tokenizer.vocab_len"
      ],
      "metadata": {
        "colab": {
          "base_uri": "https://localhost:8080/"
        },
        "id": "xHb8jCk8Mxk9",
        "outputId": "eac95300-9dac-41e4-c8f3-b058564be295"
      },
      "execution_count": 2,
      "outputs": [
        {
          "output_type": "execute_result",
          "data": {
            "text/plain": [
              "296"
            ]
          },
          "metadata": {},
          "execution_count": 2
        }
      ]
    },
    {
      "cell_type": "code",
      "source": [
        "e = tokenizer.encode(\"WHerefore art thou Romeo, and where are my tater tots?\")"
      ],
      "metadata": {
        "id": "0xmP3JGIM2tf"
      },
      "execution_count": 10,
      "outputs": []
    },
    {
      "cell_type": "code",
      "source": [
        "type(e)"
      ],
      "metadata": {
        "colab": {
          "base_uri": "https://localhost:8080/"
        },
        "id": "lml47ut-QrNX",
        "outputId": "cfe879b8-4cf3-4a58-c48c-fb3a53cb2ec1"
      },
      "execution_count": 11,
      "outputs": [
        {
          "output_type": "execute_result",
          "data": {
            "text/plain": [
              "list"
            ]
          },
          "metadata": {},
          "execution_count": 11
        }
      ]
    },
    {
      "cell_type": "code",
      "source": [
        "tokenizer.decode(e)"
      ],
      "metadata": {
        "colab": {
          "base_uri": "https://localhost:8080/",
          "height": 36
        },
        "id": "taU8cRljQt1k",
        "outputId": "10ccb46c-2f5e-4bd9-8baa-43b10d33751c"
      },
      "execution_count": 12,
      "outputs": [
        {
          "output_type": "execute_result",
          "data": {
            "text/plain": [
              "'WHerefore art thou Romeo, and where are my tater tots?'"
            ],
            "application/vnd.google.colaboratory.intrinsic+json": {
              "type": "string"
            }
          },
          "metadata": {},
          "execution_count": 12
        }
      ]
    }
  ]
}